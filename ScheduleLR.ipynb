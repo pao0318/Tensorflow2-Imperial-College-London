{
  "nbformat": 4,
  "nbformat_minor": 0,
  "metadata": {
    "kernelspec": {
      "display_name": "Python 3",
      "language": "python",
      "name": "python3"
    },
    "language_info": {
      "codemirror_mode": {
        "name": "ipython",
        "version": 3
      },
      "file_extension": ".py",
      "mimetype": "text/x-python",
      "name": "python",
      "nbconvert_exporter": "python",
      "pygments_lexer": "ipython3",
      "version": "3.7.1"
    },
    "colab": {
      "name": "Coding Tutorial.ipynb",
      "provenance": [],
      "include_colab_link": true
    }
  },
  "cells": [
    {
      "cell_type": "markdown",
      "metadata": {
        "id": "view-in-github",
        "colab_type": "text"
      },
      "source": [
        "<a href=\"https://colab.research.google.com/github/pao0318/Tensorflow2-Imperial-College-London/blob/main/ScheduleLR.ipynb\" target=\"_parent\"><img src=\"https://colab.research.google.com/assets/colab-badge.svg\" alt=\"Open In Colab\"/></a>"
      ]
    },
    {
      "cell_type": "code",
      "metadata": {
        "scrolled": true,
        "colab": {
          "base_uri": "https://localhost:8080/"
        },
        "id": "U5E0I3QBvw8u",
        "outputId": "b160efbb-0398-4e8b-fdfe-0b26443b5db2"
      },
      "source": [
        "import tensorflow as tf\n",
        "print(tf.__version__)"
      ],
      "execution_count": 1,
      "outputs": [
        {
          "output_type": "stream",
          "text": [
            "2.4.1\n"
          ],
          "name": "stdout"
        }
      ]
    },
    {
      "cell_type": "markdown",
      "metadata": {
        "id": "ILus83eVvw9L"
      },
      "source": [
        "# Validation, regularisation and callbacks"
      ]
    },
    {
      "cell_type": "markdown",
      "metadata": {
        "id": "U1s9PdzRvw9O"
      },
      "source": [
        " ## Coding tutorials\n",
        " #### [1. Validation sets](#coding_tutorial_1)\n",
        " #### [2. Model regularisation](#coding_tutorial_2)\n",
        " #### [3. Introduction to callbacks](#coding_tutorial_3)\n",
        " #### [4. Early stopping / patience](#coding_tutorial_4)"
      ]
    },
    {
      "cell_type": "markdown",
      "metadata": {
        "id": "Pn6skxmtvw9Q"
      },
      "source": [
        "***\n",
        "<a id=\"coding_tutorial_1\"></a>\n",
        "## Validation sets"
      ]
    },
    {
      "cell_type": "markdown",
      "metadata": {
        "id": "ZDFXyUnlvw9R"
      },
      "source": [
        "#### Load the data"
      ]
    },
    {
      "cell_type": "code",
      "metadata": {
        "id": "gvtONVOnvw9S"
      },
      "source": [
        "# Load the diabetes dataset\n",
        "from sklearn.datasets import load_diabetes\n",
        "df=load_diabetes()\n"
      ],
      "execution_count": 2,
      "outputs": []
    },
    {
      "cell_type": "code",
      "metadata": {
        "id": "n5rfWdx2vw9U"
      },
      "source": [
        "# Save the input and target variables\n",
        "from sklearn.model_selection import train_test_split\n",
        "data=df['data']\n",
        "targets=df['target']"
      ],
      "execution_count": 3,
      "outputs": []
    },
    {
      "cell_type": "code",
      "metadata": {
        "id": "1C5St8l4vw9V"
      },
      "source": [
        "# Normalise the target data (this will make clearer training curves)\n",
        "X_train, X_test, y_train, y_test=train_test_split(data,targets,test_size=0.1)\n"
      ],
      "execution_count": 13,
      "outputs": []
    },
    {
      "cell_type": "code",
      "metadata": {
        "id": "mrLh4YYxxwh7"
      },
      "source": [
        "\n",
        "from tensorflow.keras.models import Sequential\n",
        "from tensorflow.keras.layers import Dense\n",
        "\n",
        "model = tf.keras.Sequential([\n",
        "    Dense(128, activation='relu', input_shape=(X_train.shape[1],)),\n",
        "    Dense(64,activation='relu'),\n",
        "    tf.keras.layers.BatchNormalization(),\n",
        "    Dense(64, activation='relu'),\n",
        "    Dense(64, activation='relu'),\n",
        "    Dense(1)        \n",
        "])"
      ],
      "execution_count": 14,
      "outputs": []
    },
    {
      "cell_type": "code",
      "metadata": {
        "id": "8p6Rv36gvw9X"
      },
      "source": [
        "    \n",
        "model.compile(loss='mse', optimizer=\"adam\", metrics=['mae'])\n"
      ],
      "execution_count": 19,
      "outputs": []
    },
    {
      "cell_type": "markdown",
      "metadata": {
        "id": "jXAN4YiLvw9a"
      },
      "source": [
        "#### Defining a custom callback\n"
      ]
    },
    {
      "cell_type": "code",
      "metadata": {
        "id": "YZMJU6Vwvw9c"
      },
      "source": [
        "class LossandMetricCallback(tf.keras.callbacks.Callback):\n",
        "\n",
        "  def on_train_batch_end(seld,batch,logs=None):\n",
        "    if batch %2 ==0:\n",
        "      print('\\n After Training batch {} the loss is {:7.2f}.'.format(batch, logs['loss']))\n",
        "\n",
        "  def on_test_batch_end(self,batch,logs=None):\n",
        "    print('\\n After Test batch {} the loss is {:7.2f}.'.format(batch, logs['loss']))\n",
        "\n",
        "  def on_epoch_end(self, epoch, logs=None):\n",
        "        print('Epoch {}: Average loss is {:7.2f}, mean absolute error is {:7.2f}.'.format(epoch, logs['loss'], logs['mae']))\n",
        "    \n",
        "    # Notify the user when prediction has finished on each batch\n",
        "  def on_predict_batch_end(self,batch, logs=None):\n",
        "        print(\"Finished prediction on batch {}!\".format(batch))"
      ],
      "execution_count": 20,
      "outputs": []
    },
    {
      "cell_type": "code",
      "metadata": {
        "colab": {
          "base_uri": "https://localhost:8080/"
        },
        "id": "FCFQfXSTvw9d",
        "outputId": "cec48e3a-75bb-4a2b-cce7-23353a2f8a58"
      },
      "source": [
        "model.summary()"
      ],
      "execution_count": 21,
      "outputs": [
        {
          "output_type": "stream",
          "text": [
            "Model: \"sequential_2\"\n",
            "_________________________________________________________________\n",
            "Layer (type)                 Output Shape              Param #   \n",
            "=================================================================\n",
            "dense_10 (Dense)             (None, 128)               1408      \n",
            "_________________________________________________________________\n",
            "dense_11 (Dense)             (None, 64)                8256      \n",
            "_________________________________________________________________\n",
            "batch_normalization_2 (Batch (None, 64)                256       \n",
            "_________________________________________________________________\n",
            "dense_12 (Dense)             (None, 64)                4160      \n",
            "_________________________________________________________________\n",
            "dense_13 (Dense)             (None, 64)                4160      \n",
            "_________________________________________________________________\n",
            "dense_14 (Dense)             (None, 1)                 65        \n",
            "=================================================================\n",
            "Total params: 18,305\n",
            "Trainable params: 18,177\n",
            "Non-trainable params: 128\n",
            "_________________________________________________________________\n"
          ],
          "name": "stdout"
        }
      ]
    },
    {
      "cell_type": "code",
      "metadata": {
        "id": "sP1p6ulkvw9e"
      },
      "source": [
        ""
      ],
      "execution_count": 21,
      "outputs": []
    },
    {
      "cell_type": "code",
      "metadata": {
        "colab": {
          "base_uri": "https://localhost:8080/"
        },
        "id": "WWjNlzVvvw9f",
        "outputId": "ad71aaec-edcb-4517-c449-e4d78d7e2762"
      },
      "source": [
        "# Train the model, with some of the data reserved for validation\n",
        "\n",
        "\n",
        "history = model.fit(X_train, y_train, epochs=20,\n",
        "                    batch_size=100, callbacks=[ LossandMetricCallback()], verbose=False)"
      ],
      "execution_count": 22,
      "outputs": [
        {
          "output_type": "stream",
          "text": [
            "\n",
            " After Training batch 0 the loss is 27724.82.\n",
            "\n",
            " After Training batch 2 the loss is 29383.82.\n",
            "Epoch 0: Average loss is 29024.32, mean absolute error is  151.73.\n",
            "\n",
            " After Training batch 0 the loss is 29860.37.\n",
            "\n",
            " After Training batch 2 the loss is 28688.05.\n",
            "Epoch 1: Average loss is 28871.69, mean absolute error is  151.26.\n",
            "\n",
            " After Training batch 0 the loss is 34070.75.\n",
            "\n",
            " After Training batch 2 the loss is 29057.19.\n",
            "Epoch 2: Average loss is 28653.91, mean absolute error is  150.58.\n",
            "\n",
            " After Training batch 0 the loss is 22868.75.\n",
            "\n",
            " After Training batch 2 the loss is 27387.80.\n",
            "Epoch 3: Average loss is 28335.93, mean absolute error is  149.64.\n",
            "\n",
            " After Training batch 0 the loss is 27318.24.\n",
            "\n",
            " After Training batch 2 the loss is 29136.04.\n",
            "Epoch 4: Average loss is 27892.20, mean absolute error is  148.31.\n",
            "\n",
            " After Training batch 0 the loss is 27059.76.\n",
            "\n",
            " After Training batch 2 the loss is 27614.11.\n",
            "Epoch 5: Average loss is 27284.83, mean absolute error is  146.49.\n",
            "\n",
            " After Training batch 0 the loss is 26434.58.\n",
            "\n",
            " After Training batch 2 the loss is 26334.45.\n",
            "Epoch 6: Average loss is 26471.03, mean absolute error is  144.08.\n",
            "\n",
            " After Training batch 0 the loss is 24482.29.\n",
            "\n",
            " After Training batch 2 the loss is 25383.60.\n",
            "Epoch 7: Average loss is 25415.12, mean absolute error is  140.90.\n",
            "\n",
            " After Training batch 0 the loss is 24315.52.\n",
            "\n",
            " After Training batch 2 the loss is 23849.43.\n",
            "Epoch 8: Average loss is 24096.11, mean absolute error is  136.80.\n",
            "\n",
            " After Training batch 0 the loss is 21386.78.\n",
            "\n",
            " After Training batch 2 the loss is 22928.76.\n",
            "Epoch 9: Average loss is 22467.11, mean absolute error is  131.57.\n",
            "\n",
            " After Training batch 0 the loss is 23851.35.\n",
            "\n",
            " After Training batch 2 the loss is 19996.75.\n",
            "Epoch 10: Average loss is 20514.47, mean absolute error is  124.99.\n",
            "\n",
            " After Training batch 0 the loss is 20463.96.\n",
            "\n",
            " After Training batch 2 the loss is 18590.18.\n",
            "Epoch 11: Average loss is 18290.91, mean absolute error is  116.97.\n",
            "\n",
            " After Training batch 0 the loss is 17692.62.\n",
            "\n",
            " After Training batch 2 the loss is 16055.46.\n",
            "Epoch 12: Average loss is 15891.83, mean absolute error is  107.73.\n",
            "\n",
            " After Training batch 0 the loss is 15197.12.\n",
            "\n",
            " After Training batch 2 the loss is 13381.04.\n",
            "Epoch 13: Average loss is 13370.54, mean absolute error is   96.49.\n",
            "\n",
            " After Training batch 0 the loss is 13040.15.\n",
            "\n",
            " After Training batch 2 the loss is 11094.84.\n",
            "Epoch 14: Average loss is 11017.95, mean absolute error is   85.71.\n",
            "\n",
            " After Training batch 0 the loss is 8623.62.\n",
            "\n",
            " After Training batch 2 the loss is 8492.40.\n",
            "Epoch 15: Average loss is 8568.82, mean absolute error is   73.67.\n",
            "\n",
            " After Training batch 0 the loss is 5490.52.\n",
            "\n",
            " After Training batch 2 the loss is 7031.47.\n",
            "Epoch 16: Average loss is 6830.06, mean absolute error is   64.44.\n",
            "\n",
            " After Training batch 0 the loss is 4727.33.\n",
            "\n",
            " After Training batch 2 the loss is 5703.31.\n",
            "Epoch 17: Average loss is 5755.34, mean absolute error is   58.57.\n",
            "\n",
            " After Training batch 0 the loss is 6229.60.\n",
            "\n",
            " After Training batch 2 the loss is 5230.52.\n",
            "Epoch 18: Average loss is 5161.41, mean absolute error is   55.48.\n",
            "\n",
            " After Training batch 0 the loss is 6733.42.\n",
            "\n",
            " After Training batch 2 the loss is 5508.54.\n",
            "Epoch 19: Average loss is 5375.03, mean absolute error is   57.86.\n"
          ],
          "name": "stdout"
        }
      ]
    },
    {
      "cell_type": "code",
      "metadata": {
        "colab": {
          "base_uri": "https://localhost:8080/"
        },
        "id": "lSBaaK2rvw9h",
        "outputId": "fa22c2b9-96d8-4c55-c85d-3095e87596cf"
      },
      "source": [
        "# Evaluate the model on the test set\n",
        "\n",
        "model_eval=model.evaluate(X_test,y_test,batch_size=10,\n",
        "                          callbacks=[LossandMetricCallback()],verbose=False)"
      ],
      "execution_count": 23,
      "outputs": [
        {
          "output_type": "stream",
          "text": [
            "\n",
            " After Test batch 0 the loss is 12344.42.\n",
            "\n",
            " After Test batch 1 the loss is 17259.92.\n",
            "\n",
            " After Test batch 2 the loss is 14410.78.\n",
            "\n",
            " After Test batch 3 the loss is 15371.96.\n",
            "\n",
            " After Test batch 4 the loss is 15490.94.\n"
          ],
          "name": "stdout"
        }
      ]
    },
    {
      "cell_type": "markdown",
      "metadata": {
        "id": "-yw9vCLlvw9j"
      },
      "source": [
        "#### Plot the learning curves"
      ]
    },
    {
      "cell_type": "code",
      "metadata": {
        "colab": {
          "base_uri": "https://localhost:8080/"
        },
        "id": "H8LSHpLX1-TC",
        "outputId": "3a247c94-6ccd-44b7-d9f7-028fd1e24ea2"
      },
      "source": [
        "\n",
        "model_pred = model.predict(X_test, batch_size=10,\n",
        "                           callbacks=[LossandMetricCallback()], verbose=False)"
      ],
      "execution_count": 27,
      "outputs": [
        {
          "output_type": "stream",
          "text": [
            "Finished prediction on batch 0!\n",
            "Finished prediction on batch 1!\n",
            "Finished prediction on batch 2!\n",
            "Finished prediction on batch 3!\n",
            "Finished prediction on batch 4!\n"
          ],
          "name": "stdout"
        }
      ]
    },
    {
      "cell_type": "code",
      "metadata": {
        "id": "WMo7lZhTvw9l"
      },
      "source": [
        "import matplotlib.pyplot as plt\n",
        "%matplotlib inline"
      ],
      "execution_count": 24,
      "outputs": []
    },
    {
      "cell_type": "code",
      "metadata": {
        "colab": {
          "base_uri": "https://localhost:8080/",
          "height": 295
        },
        "id": "3litTnrmvw9w",
        "outputId": "a016440a-fd3e-4e26-f6c0-af956661ccde"
      },
      "source": [
        "# Plot the training and validation loss\n",
        "\n",
        "import matplotlib.pyplot as plt\n",
        "\n",
        "plt.plot(history.history['loss'])\n",
        "# plt.plot(history.history['val_loss'])\n",
        "plt.title('Loss vs. epochs')\n",
        "plt.ylabel('Loss')\n",
        "plt.xlabel('Epoch')\n",
        "plt.legend(['Training', 'Validation'], loc='upper right')\n",
        "plt.show()"
      ],
      "execution_count": 29,
      "outputs": [
        {
          "output_type": "display_data",
          "data": {
            "image/png": "[encoded data removed]",
            "text/plain": [
              "<Figure size 432x288 with 1 Axes>"
            ]
          },
          "metadata": {
            "tags": [],
            "needs_background": "light"
          }
        }
      ]
    },
    {
      "cell_type": "code",
      "metadata": {
        "id": "iqhvRJZ45ReX"
      },
      "source": [
        ""
      ],
      "execution_count": null,
      "outputs": []
    },
    {
      "cell_type": "code",
      "metadata": {
        "id": "a0vvYBMM5Rb7"
      },
      "source": [
        "lr_schedule=[(4,0.03),(7,0.02),(11,0.05),(7,0.02)]\n",
        "def get_new_epoch_lr(epoch,lr):\n",
        "  epoch_in_schd=[i for i in range(len(lr_schedule)) if lr_schedule[i][0]==int(epoch)]\n",
        "  if len(epoch_in_schd)>0:\n",
        "    return lr_schedule[epoch_in_schd[0]][1]\n",
        "  else:\n",
        "    return lr\n",
        "        \n",
        "      \n"
      ],
      "execution_count": 42,
      "outputs": []
    },
    {
      "cell_type": "code",
      "metadata": {
        "id": "jRKhG4WW5RY9"
      },
      "source": [
        "# Define the custom callback\n",
        "\n",
        "class LRScheduler(tf.keras.callbacks.Callback):\n",
        "    \n",
        "    def __init__(self, new_lr):\n",
        "        super(LRScheduler, self).__init__()\n",
        "        # Add the new learning rate function to our callback\n",
        "        self.new_lr = new_lr\n",
        "\n",
        "    def on_epoch_begin(self, epoch, logs=None):\n",
        "        # Make sure that the optimizer we have chosen has a learning rate, and raise an error if not\n",
        "        if not hasattr(self.model.optimizer, 'lr'):\n",
        "              raise ValueError('Error: Optimizer does not have a learning rate.')\n",
        "                \n",
        "        # Get the current learning rate\n",
        "        curr_rate = float(tf.keras.backend.get_value(self.model.optimizer.lr))\n",
        "        \n",
        "        # Call the auxillary function to get the scheduled learning rate for the current epoch\n",
        "        scheduled_rate = self.new_lr(epoch, curr_rate)\n",
        "\n",
        "        # Set the learning rate to the scheduled learning rate\n",
        "        tf.keras.backend.set_value(self.model.optimizer.lr, scheduled_rate)\n",
        "        print('Learning rate for epoch {} is {:7.3f}'.format(epoch, scheduled_rate))\n"
      ],
      "execution_count": 43,
      "outputs": []
    },
    {
      "cell_type": "code",
      "metadata": {
        "id": "HRH-u4BX5RQE"
      },
      "source": [
        "\n",
        "new_model = tf.keras.Sequential([\n",
        "    Dense(128, activation='relu', input_shape=(X_train.shape[1],)),\n",
        "    Dense(64,activation='relu'),\n",
        "    tf.keras.layers.BatchNormalization(),\n",
        "    Dense(64, activation='relu'),\n",
        "    Dense(64, activation='relu'),\n",
        "    Dense(1)        \n",
        "])"
      ],
      "execution_count": 44,
      "outputs": []
    },
    {
      "cell_type": "code",
      "metadata": {
        "id": "5IpMXLTM2tG0"
      },
      "source": [
        "new_model.compile(loss='mse',\n",
        "                optimizer=\"adam\",\n",
        "                metrics=['mae', 'mse'])"
      ],
      "execution_count": 45,
      "outputs": []
    },
    {
      "cell_type": "code",
      "metadata": {
        "id": "fCZsTyK96btC",
        "outputId": "41b54ba0-62c2-4fe8-8bc2-9779f762f885",
        "colab": {
          "base_uri": "https://localhost:8080/"
        }
      },
      "source": [
        "new_history = new_model.fit(X_train,y_train, epochs=20,\n",
        "                            batch_size=100, callbacks=[LRScheduler(get_new_epoch_lr)], verbose=False)"
      ],
      "execution_count": 46,
      "outputs": [
        {
          "output_type": "stream",
          "text": [
            "Learning rate for epoch 0 is   0.001\n",
            "Learning rate for epoch 1 is   0.001\n",
            "Learning rate for epoch 2 is   0.001\n",
            "Learning rate for epoch 3 is   0.001\n",
            "Learning rate for epoch 4 is   0.030\n",
            "Learning rate for epoch 5 is   0.030\n",
            "Learning rate for epoch 6 is   0.030\n",
            "Learning rate for epoch 7 is   0.020\n",
            "Learning rate for epoch 8 is   0.020\n",
            "Learning rate for epoch 9 is   0.020\n",
            "Learning rate for epoch 10 is   0.020\n",
            "Learning rate for epoch 11 is   0.050\n",
            "Learning rate for epoch 12 is   0.050\n",
            "Learning rate for epoch 13 is   0.050\n",
            "Learning rate for epoch 14 is   0.050\n",
            "Learning rate for epoch 15 is   0.050\n",
            "Learning rate for epoch 16 is   0.050\n",
            "Learning rate for epoch 17 is   0.050\n",
            "Learning rate for epoch 18 is   0.050\n",
            "Learning rate for epoch 19 is   0.050\n"
          ],
          "name": "stdout"
        }
      ]
    },
    {
      "cell_type": "code",
      "metadata": {
        "id": "ky2KnQNj6f_n"
      },
      "source": [
        ""
      ],
      "execution_count": null,
      "outputs": []
    }
  ]
}