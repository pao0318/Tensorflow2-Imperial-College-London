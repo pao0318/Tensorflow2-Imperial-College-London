{
  "nbformat": 4,
  "nbformat_minor": 0,
  "metadata": {
    "colab": {
      "name": "Multiple I/P and O/P.ipynb",
      "provenance": [],
      "mount_file_id": "1WeU-sN0cxu8YPd8gKz09r1WtcObIZK91",
      "authorship_tag": "ABX9TyMCLW/rD4rHp4n8mJo/XalC",
      "include_colab_link": true
    },
    "kernelspec": {
      "name": "python3",
      "display_name": "Python 3"
    },
    "language_info": {
      "name": "python"
    }
  },
  "cells": [
    {
      "cell_type": "markdown",
      "metadata": {
        "id": "view-in-github",
        "colab_type": "text"
      },
      "source": [
        "<a href=\"https://colab.research.google.com/github/pao0318/Tensorflow2-Imperial-College-London/blob/main/Multiple_I_P_and_O_P.ipynb\" target=\"_parent\"><img src=\"https://colab.research.google.com/assets/colab-badge.svg\" alt=\"Open In Colab\"/></a>"
      ]
    },
    {
      "cell_type": "markdown",
      "metadata": {
        "id": "SzhVwQ7f7yLz"
      },
      "source": [
        "# Multiple Inputs and Outputs"
      ]
    },
    {
      "cell_type": "code",
      "metadata": {
        "colab": {
          "base_uri": "https://localhost:8080/"
        },
        "id": "AFjW0VQl7tZ3",
        "outputId": "6e5dc3e1-0713-4509-d6a4-0f4961ceedb4"
      },
      "source": [
        "import tensorflow as tf\n",
        "print(tf.__version__)"
      ],
      "execution_count": 1,
      "outputs": [
        {
          "output_type": "stream",
          "text": [
            "2.4.1\n"
          ],
          "name": "stdout"
        }
      ]
    },
    {
      "cell_type": "code",
      "metadata": {
        "id": "2osqvdcT8Usn"
      },
      "source": [
        "import numpy as np\n",
        "import pandas as pd\n",
        "import matplotlib.pyplot as plt\n",
        "%matplotlib inline"
      ],
      "execution_count": 2,
      "outputs": []
    },
    {
      "cell_type": "code",
      "metadata": {
        "id": "tMo4Lxfg8fH2"
      },
      "source": [
        "from sklearn.model_selection import train_test_split\n",
        "pd_dat=pd.read_csv('/content/drive/MyDrive/Colab Notebooks/datas imperial/diagnosis.csv') "
      ],
      "execution_count": 3,
      "outputs": []
    },
    {
      "cell_type": "code",
      "metadata": {
        "id": "bOc59oGA9kDk"
      },
      "source": [
        "dataset=pd_dat.values"
      ],
      "execution_count": 4,
      "outputs": []
    },
    {
      "cell_type": "code",
      "metadata": {
        "id": "GQNneGCs9pPM"
      },
      "source": [
        "# SPLITTING THE DATA\n",
        "X_train,X_test, Y_train, Y_test=train_test_split(dataset[:,:6], dataset[:,6:], test_size=0.33)"
      ],
      "execution_count": 19,
      "outputs": []
    },
    {
      "cell_type": "code",
      "metadata": {
        "colab": {
          "base_uri": "https://localhost:8080/"
        },
        "id": "xZ2Hna-7_MZw",
        "outputId": "05205236-b4fa-44cc-ee04-2543fdaaf97a"
      },
      "source": [
        "df=[20, 21, 22, 23, 24, 25, 26, 27, 28, 29]\n",
        "df"
      ],
      "execution_count": 9,
      "outputs": [
        {
          "output_type": "execute_result",
          "data": {
            "text/plain": [
              "[20, 21, 22, 23, 24, 25, 26, 27, 28, 29]"
            ]
          },
          "metadata": {
            "tags": []
          },
          "execution_count": 9
        }
      ]
    },
    {
      "cell_type": "code",
      "metadata": {
        "id": "yCuogj8S_RPM"
      },
      "source": [
        "# Assign training and testing inputs/outputs\n",
        "\n",
        "temp_train, nocc_train, lumbp_train, up_train, mict_train, bis_train = np.transpose(X_train)\n",
        "temp_test, nocc_test, lumbp_test, up_test, mict_test, bis_test = np.transpose(X_test)\n",
        "\n",
        "inflam_train, nephr_train = Y_train[:, 0], Y_train[:, 1]\n",
        "inflam_test, nephr_test = Y_test[:, 0], Y_test[:, 1]"
      ],
      "execution_count": 20,
      "outputs": []
    },
    {
      "cell_type": "markdown",
      "metadata": {
        "id": "lxzoKHXgBljI"
      },
      "source": [
        "BUILD THE MODEL"
      ]
    },
    {
      "cell_type": "code",
      "metadata": {
        "id": "Pcptv7Qu_U81"
      },
      "source": [
        "from tensorflow.keras import Input, layers\n",
        "shape_inputs=(1,)\n",
        "temperature=Input(shape=shape_inputs, name='temp')\n",
        "nausea_occurence=Input(shape=shape_inputs, name='nocc')\n",
        "lumbar_pain=Input(shape=shape_inputs, name='lumbp')\n",
        "urine_pushing=Input(shape=shape_inputs, name='up')\n",
        "micturition_pains=Input(shape=shape_inputs, name='mict')\n",
        "bis=Input(shape=shape_inputs, name='bis')"
      ],
      "execution_count": 24,
      "outputs": []
    },
    {
      "cell_type": "code",
      "metadata": {
        "id": "yjPca1jaBydj"
      },
      "source": [
        "# List of all inputs\n",
        "list_inputs=[temperature, nausea_occurence, lumbar_pain, urine_pushing, micturition_pains,bis]"
      ],
      "execution_count": 25,
      "outputs": []
    },
    {
      "cell_type": "code",
      "metadata": {
        "id": "Us0d-TgTB_yj"
      },
      "source": [
        "# Merging all input features\n",
        "x=layers.concatenate(list_inputs)"
      ],
      "execution_count": 26,
      "outputs": []
    },
    {
      "cell_type": "code",
      "metadata": {
        "id": "oSzV3L-qEakR"
      },
      "source": [
        "# logistic regression classifier\n",
        "inflamation_pred=layers.Dense(1,activation='sigmoid', name='inflam')(x)\n",
        "nephritis_pred=layers.Dense(1,activation='sigmoid', name='nephr')(x)"
      ],
      "execution_count": 27,
      "outputs": []
    },
    {
      "cell_type": "code",
      "metadata": {
        "id": "MtiH2dk1Ggyc"
      },
      "source": [
        "# list of all the outputs\n",
        "list_outputs=[inflamation_pred,nephritis_pred]"
      ],
      "execution_count": 28,
      "outputs": []
    },
    {
      "cell_type": "code",
      "metadata": {
        "id": "HkKBIvRkGpdK"
      },
      "source": [
        "# Create the model object\n",
        "model=tf.keras.Model(inputs=list_inputs, outputs=list_outputs)"
      ],
      "execution_count": 29,
      "outputs": []
    },
    {
      "cell_type": "code",
      "metadata": {
        "id": "Ck0LrlKQHcS7"
      },
      "source": [
        "# Plot the model\n",
        "tf.keras.utils.plot_model(model,'mulit_input')"
      ],
      "execution_count": null,
      "outputs": []
    },
    {
      "cell_type": "markdown",
      "metadata": {
        "id": "PYRKzN3zH1EH"
      },
      "source": [
        "**Compile the model**"
      ]
    },
    {
      "cell_type": "code",
      "metadata": {
        "id": "Jzp75yMAHz1t"
      },
      "source": [
        "model.compile(optimizer=tf.keras.optimizers.RMSprop(1e-3),\n",
        "              loss={'inflam':'binary_crossentropy',\n",
        "                    'nephr':'binary_crossentropy'},\n",
        "              metrics={'inflam':['acc'],\n",
        "                       'nephr':['acc']},\n",
        "              loss_weights=[1.,0.2]\n",
        "              )"
      ],
      "execution_count": 32,
      "outputs": []
    },
    {
      "cell_type": "markdown",
      "metadata": {
        "id": "ALothcVAIak3"
      },
      "source": [
        "Fit the model"
      ]
    },
    {
      "cell_type": "code",
      "metadata": {
        "id": "QDE-fvfsKq9u"
      },
      "source": [
        "inputs_train=[temp_train, nocc_train, lumbp_train, up_train, mict_train, bis_train]\n",
        "outputs_train=[inflam_train, nephr_train ]"
      ],
      "execution_count": 33,
      "outputs": []
    },
    {
      "cell_type": "code",
      "metadata": {
        "id": "yR5LC9T3IYmR"
      },
      "source": [
        "history=model.fit(inputs_train, outputs_train, epochs=1000, batch_size=128,verbose=False)"
      ],
      "execution_count": 34,
      "outputs": []
    },
    {
      "cell_type": "markdown",
      "metadata": {
        "id": "GsOGWikALG2d"
      },
      "source": [
        "**Plot the learning curves**"
      ]
    },
    {
      "cell_type": "code",
      "metadata": {
        "colab": {
          "base_uri": "https://localhost:8080/",
          "height": 573
        },
        "id": "Nx6LpntQLFQ0",
        "outputId": "b698844d-bedb-4e33-a407-c3c736d06aff"
      },
      "source": [
        "acc_keys=[k for k in history.history.keys() if k in ('inflam_acc','nephr_acc')]\n",
        "loss_keys=[k for k in history.history.keys() if not k in acc_keys]\n",
        "\n",
        "for k,v in history.history.items():\n",
        "  if k in acc_keys:\n",
        "    plt.figure(1)\n",
        "    plt.plot(v)\n",
        "  else:\n",
        "    plt.figure(2)\n",
        "    plt.plot(v)\n",
        "\n",
        "\n",
        "plt.figure(1)\n",
        "plt.title('Accuracy vs epochs')\n",
        "plt.ylabel('Accuracy')\n",
        "plt.xlabel('Epoch')\n",
        "plt.legend(acc_keys)  \n",
        "\n",
        "plt.figure(2)\n",
        "plt.title('Loss vs epochs')\n",
        "plt.ylabel('Loss')\n",
        "plt.xlabel('Epoch')\n",
        "plt.legend(loss_keys)\n",
        "\n",
        "plt.show()\n",
        "\n"
      ],
      "execution_count": 38,
      "outputs": [
        {
          "output_type": "display_data",
          "data": {
            "image/png": "[encoded data removed]",
            "text/plain": [
              "<Figure size 432x288 with 1 Axes>"
            ]
          },
          "metadata": {
            "tags": [],
            "needs_background": "light"
          }
        },
        {
          "output_type": "display_data",
          "data": {
            "image/png": "[encoded data removed]",
            "text/plain": [
              "<Figure size 432x288 with 1 Axes>"
            ]
          },
          "metadata": {
            "tags": [],
            "needs_background": "light"
          }
        }
      ]
    },
    {
      "cell_type": "code",
      "metadata": {
        "colab": {
          "base_uri": "https://localhost:8080/"
        },
        "id": "H3DOyi6IPLUx",
        "outputId": "2cb41f2e-8bda-4901-d348-bdfd195fd397"
      },
      "source": [
        "# Evaluate the model\n",
        "model.evaluate([temp_test, nocc_test, lumbp_test, up_test, mict_test, bis_test],\n",
        "               [inflam_test, nephr_test ],verbose=2)"
      ],
      "execution_count": 40,
      "outputs": [
        {
          "output_type": "stream",
          "text": [
            "2/2 - 0s - loss: 0.6119 - inflam_loss: 0.5200 - nephr_loss: 0.4593 - inflam_acc: 0.6750 - nephr_acc: 0.9000\n"
          ],
          "name": "stdout"
        },
        {
          "output_type": "execute_result",
          "data": {
            "text/plain": [
              "[0.611880362033844,\n",
              " 0.5200189352035522,\n",
              " 0.4593070447444916,\n",
              " 0.675000011920929,\n",
              " 0.8999999761581421]"
            ]
          },
          "metadata": {
            "tags": []
          },
          "execution_count": 40
        }
      ]
    },
    {
      "cell_type": "code",
      "metadata": {
        "id": "NyDzLnZdPs5l"
      },
      "source": [
        ""
      ],
      "execution_count": null,
      "outputs": []
    }
  ]
}