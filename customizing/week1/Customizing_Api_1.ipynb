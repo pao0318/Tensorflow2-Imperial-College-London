{
  "nbformat": 4,
  "nbformat_minor": 0,
  "metadata": {
    "colab": {
      "name": "Customizing_Api_1.ipynb",
      "provenance": [],
      "collapsed_sections": []
    },
    "kernelspec": {
      "name": "python3",
      "display_name": "Python 3"
    },
    "language_info": {
      "name": "python"
    }
  },
  "cells": [
    {
      "cell_type": "code",
      "metadata": {
        "id": "6yj3UixU_NEb"
      },
      "source": [
        "from tensorflow.keras.layers import Input, Dense, Flatten, Conv1D, AveragePooling1D, Concatenate\n",
        "from tensorflow.keras.models import Model"
      ],
      "execution_count": 1,
      "outputs": []
    },
    {
      "cell_type": "code",
      "metadata": {
        "id": "KMvrRIjRQkwX"
      },
      "source": [
        "inputs=Input(shape=(32,1),name='inputs')\n",
        "h=Conv1D(16,5, activation='relu')(inputs)\n",
        "h=AveragePooling1D(3)(h)\n",
        "h=Flatten()(h)"
      ],
      "execution_count": 2,
      "outputs": []
    },
    {
      "cell_type": "code",
      "metadata": {
        "id": "S2HVcX0fRYsk"
      },
      "source": [
        "aux_inputs=Input(shape=(12,),name='aux_inputs')\n",
        "h=Concatenate()([h, aux_inputs])"
      ],
      "execution_count": 3,
      "outputs": []
    },
    {
      "cell_type": "code",
      "metadata": {
        "id": "L6qYUtoBUJtw"
      },
      "source": [
        "outputs=Dense(20, activation='sigmoid',name='ouputs')(h)\n",
        "aux_outputs=Dense(1,activation='linear', name='aux_outputs')(h)"
      ],
      "execution_count": 4,
      "outputs": []
    },
    {
      "cell_type": "code",
      "metadata": {
        "id": "lT1SiQ9PVMH6"
      },
      "source": [
        "model=Model(inputs=[inputs,aux_inputs], outputs=[outputs,aux_outputs])"
      ],
      "execution_count": 5,
      "outputs": []
    },
    {
      "cell_type": "code",
      "metadata": {
        "id": "PDsI-A9aVXYJ"
      },
      "source": [
        "model.compile(loss={'outputs':'binary_crossentropy', 'aux_ouputs':'mse'},\n",
        "              loss_weights={'outputs':1, 'aux_outputs':0.4}, metrics=['accuracy'])"
      ],
      "execution_count": 7,
      "outputs": []
    },
    {
      "cell_type": "code",
      "metadata": {
        "id": "JKyEbjoBWsRN"
      },
      "source": [
        "history=model.fit({'inputs':X_train, 'aux_inputs':X_aux},\n",
        "                  {'outputs':y_train, 'aux_ouputs':y_aux},\n",
        "                  validation_split=0.2,epochs=20)"
      ],
      "execution_count": 9,
      "outputs": []
    },
    {
      "cell_type": "code",
      "metadata": {
        "id": "8-ea7W5PXKSE"
      },
      "source": [
        ""
      ],
      "execution_count": null,
      "outputs": []
    }
  ]
}